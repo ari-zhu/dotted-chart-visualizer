from django.core.files import File
import os
from os import listdir
from os.path import isfile, join
from django.conf import settings
from pm4py.objects.log.importer.xes import importer as xes_importer
import pandas as pd
from pm4py.objects.conversion.log import converter as log_converter

from pm4py.algo.filtering.pandas.attributes.attributes_filter import apply as df_filter

def convert_log_to_df():
    event_log= settings.EVENT_LOG_NAME #replaced by function parameter later
    event_logs_path = os.path.join(settings.MEDIA_ROOT,"event_logs")
    event_log_file_path=os.path.join(event_logs_path,event_log)
    with open(event_log_file_path,'r') as event_log_file:
        
                name, extension = os.path.splitext(event_log)